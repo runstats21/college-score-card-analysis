{
 "cells": [
  {
   "cell_type": "code",
   "execution_count": null,
   "metadata": {},
   "outputs": [],
   "source": [
    "# a template from streamlit docs on how to create an app with multiple tabs:\n",
    "import streamlit as st\n",
    "\n",
    "tab1, tab2, tab3 = st.tabs([\"Cat\", \"Dog\", \"Owl\"])\n",
    "\n",
    "with tab1:\n",
    "   st.header(\"A cat\")\n",
    "   st.image(\"https://static.streamlit.io/examples/cat.jpg\", width=200)\n",
    "\n",
    "with tab2:\n",
    "   st.header(\"A dog\")\n",
    "   st.image(\"https://static.streamlit.io/examples/dog.jpg\", width=200)\n",
    "\n",
    "with tab3:\n",
    "   st.header(\"An owl\")\n",
    "   st.image(\"https://static.streamlit.io/examples/owl.jpg\", width=200)"
   ]
  },
  {
   "cell_type": "markdown",
   "metadata": {},
   "source": [
    "Begin app work:"
   ]
  },
  {
   "cell_type": "code",
   "execution_count": 2,
   "metadata": {},
   "outputs": [],
   "source": [
    "# installs and imports\n",
    "import streamlit as st\n",
    "import shap\n",
    "from sklearn.ensemble import RandomForestRegressor\n",
    "import numpy as np \n",
    "import pandas as pd\n",
    "import matplotlib.pyplot as plt"
   ]
  },
  {
   "cell_type": "code",
   "execution_count": null,
   "metadata": {},
   "outputs": [],
   "source": []
  }
 ],
 "metadata": {
  "kernelspec": {
   "display_name": "base",
   "language": "python",
   "name": "python3"
  },
  "language_info": {
   "codemirror_mode": {
    "name": "ipython",
    "version": 3
   },
   "file_extension": ".py",
   "mimetype": "text/x-python",
   "name": "python",
   "nbconvert_exporter": "python",
   "pygments_lexer": "ipython3",
   "version": "3.9.12"
  }
 },
 "nbformat": 4,
 "nbformat_minor": 2
}
