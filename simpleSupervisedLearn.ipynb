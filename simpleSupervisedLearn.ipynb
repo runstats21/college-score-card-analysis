{
 "cells": [
  {
   "cell_type": "markdown",
   "metadata": {},
   "source": [
    "Installs and imports"
   ]
  },
  {
   "cell_type": "code",
   "execution_count": 2,
   "metadata": {},
   "outputs": [],
   "source": [
    "import pandas as pd\n",
    "import numpy as np\n",
    "import seaborn as sns\n",
    "import matplotlib.pyplot as plt\n",
    "from sklearn.linear_model import LinearRegression, Ridge, Lasso, LassoCV\n",
    "import statsmodels.api as sm\n",
    "from sklearn.model_selection import train_test_split, GridSearchCV\n",
    "import sklearn.metrics as skm"
   ]
  },
  {
   "cell_type": "code",
   "execution_count": 10,
   "metadata": {},
   "outputs": [],
   "source": [
    "# import college roi data\n",
    "college_dat = pd.read_csv(\"college_roi_dat.csv\")\n",
    "college_dat.index = college_dat[\"School Name\"]"
   ]
  },
  {
   "cell_type": "code",
   "execution_count": 11,
   "metadata": {},
   "outputs": [],
   "source": [
    "# define features and target\n",
    "features = [\"School Ownership\", 'Full-time Faculty Rate (%)', 'Faculty Average Salary', 'Student Enrollment Size','Attendance Cost',\n",
    "            '150% Completion Rate at 4 Yr (%)', 'Admission Rate (%)', 'RetentionRate_4yr',  \"Female_Majority\",'SAT Average (Overall)']\n",
    "X = college_dat.loc[:,features]\n",
    "X.index = college_dat['School Name']\n",
    "\n",
    "target = college_dat['Mean Earnings (6 Yrs after Entry)']\n",
    "target2 = college_dat['Mean Earnings (10 Yrs after Entry)']\n",
    "\n",
    "Xtrain, Xtest0, ytrain, ytest0 = train_test_split(X,target,random_state=4015,test_size=0.3)\n",
    "Xvalid,Xtest,yvalid,ytest = train_test_split(Xtest0,ytest0, random_state=4015,test_size=0.3)"
   ]
  },
  {
   "cell_type": "code",
   "execution_count": 4,
   "metadata": {},
   "outputs": [],
   "source": [
    "# read in preprocessed data\n",
    "X_filled = pd.read_csv(\"./saved_data/X_filled.csv\",index_col=\"School Name\")\n",
    "# import train and test data\n",
    "Xtrain_filled = pd.read_csv(\"./saved_data/Xtrain_filled.csv\",index_col=\"School Name\")\n",
    "ytrain = pd.read_csv(\"./saved_data/ytrain.csv\",index_col=\"School Name\").squeeze()\n",
    "Xtest_filled = pd.read_csv(\"./saved_data/Xtest_filled.csv\",index_col=\"School Name\") # note: filled test set is from Xtest0\n",
    "ytest0 = pd.read_csv(\"./saved_data/ytest.csv\",index_col=\"School Name\").squeeze()\n",
    "# 10 year post entry data\n",
    "X_filled10 = pd.read_csv(\"./saved_data/X_filled10.csv\",index_col=\"School Name\")\n",
    "# import train and test data\n",
    "Xtrain_filled10 = pd.read_csv(\"./saved_data/Xtrain_filled10.csv\",index_col=\"School Name\")\n",
    "ytrain10 = pd.read_csv(\"./saved_data/ytrain10.csv\",index_col=\"School Name\").squeeze()\n",
    "Xtest_filled10 = pd.read_csv(\"./saved_data/Xtest_filled10.csv\",index_col=\"School Name\") # note: filled test set is from Xtest0\n",
    "ytest10 = pd.read_csv(\"./saved_data/ytest10.csv\",index_col=\"School Name\").squeeze()\n",
    "\n",
    "# add intercept to data for linear model (linear regression) fit\n",
    "# (could also use penalized regression)\n",
    "X_plus = sm.add_constant(X_filled,prepend=True)\n",
    "Xtrainplus = sm.add_constant(Xtrain_filled,prepend=True)\n",
    "Xtestplus = sm.add_constant(Xtest_filled,prepend=True)"
   ]
  },
  {
   "cell_type": "code",
   "execution_count": 5,
   "metadata": {},
   "outputs": [
    {
     "data": {
      "text/html": [
       "<div>\n",
       "<style scoped>\n",
       "    .dataframe tbody tr th:only-of-type {\n",
       "        vertical-align: middle;\n",
       "    }\n",
       "\n",
       "    .dataframe tbody tr th {\n",
       "        vertical-align: top;\n",
       "    }\n",
       "\n",
       "    .dataframe thead th {\n",
       "        text-align: right;\n",
       "    }\n",
       "</style>\n",
       "<table border=\"1\" class=\"dataframe\">\n",
       "  <thead>\n",
       "    <tr style=\"text-align: right;\">\n",
       "      <th></th>\n",
       "      <th>const</th>\n",
       "      <th>Full-time Faculty Rate (%)</th>\n",
       "      <th>Faculty Average Salary</th>\n",
       "      <th>Student Enrollment Size</th>\n",
       "      <th>Attendance Cost</th>\n",
       "      <th>Completion Rate</th>\n",
       "      <th>Admission Rate (%)</th>\n",
       "      <th>Retention Rate</th>\n",
       "      <th>SAT Average</th>\n",
       "      <th>Ivy League Plus</th>\n",
       "      <th>x0_Private ForProfit</th>\n",
       "      <th>x0_Private NonProfit</th>\n",
       "      <th>x0_Public</th>\n",
       "    </tr>\n",
       "    <tr>\n",
       "      <th>School Name</th>\n",
       "      <th></th>\n",
       "      <th></th>\n",
       "      <th></th>\n",
       "      <th></th>\n",
       "      <th></th>\n",
       "      <th></th>\n",
       "      <th></th>\n",
       "      <th></th>\n",
       "      <th></th>\n",
       "      <th></th>\n",
       "      <th></th>\n",
       "      <th></th>\n",
       "      <th></th>\n",
       "    </tr>\n",
       "  </thead>\n",
       "  <tbody>\n",
       "    <tr>\n",
       "      <th>Alabama A &amp; M University</th>\n",
       "      <td>1.0</td>\n",
       "      <td>99.60</td>\n",
       "      <td>91188.0</td>\n",
       "      <td>5090.0</td>\n",
       "      <td>23445.0</td>\n",
       "      <td>28.66</td>\n",
       "      <td>89.65</td>\n",
       "      <td>54.03</td>\n",
       "      <td>959.0</td>\n",
       "      <td>0.0</td>\n",
       "      <td>0.0</td>\n",
       "      <td>0.0</td>\n",
       "      <td>1.0</td>\n",
       "    </tr>\n",
       "    <tr>\n",
       "      <th>University of Alabama at Birmingham</th>\n",
       "      <td>1.0</td>\n",
       "      <td>76.19</td>\n",
       "      <td>136560.0</td>\n",
       "      <td>13549.0</td>\n",
       "      <td>25542.0</td>\n",
       "      <td>61.17</td>\n",
       "      <td>80.60</td>\n",
       "      <td>86.40</td>\n",
       "      <td>1245.0</td>\n",
       "      <td>0.0</td>\n",
       "      <td>0.0</td>\n",
       "      <td>0.0</td>\n",
       "      <td>1.0</td>\n",
       "    </tr>\n",
       "    <tr>\n",
       "      <th>University of Alabama in Huntsville</th>\n",
       "      <td>1.0</td>\n",
       "      <td>67.02</td>\n",
       "      <td>116364.0</td>\n",
       "      <td>7825.0</td>\n",
       "      <td>24861.0</td>\n",
       "      <td>57.14</td>\n",
       "      <td>77.11</td>\n",
       "      <td>81.80</td>\n",
       "      <td>1300.0</td>\n",
       "      <td>0.0</td>\n",
       "      <td>0.0</td>\n",
       "      <td>0.0</td>\n",
       "      <td>1.0</td>\n",
       "    </tr>\n",
       "    <tr>\n",
       "      <th>Alabama State University</th>\n",
       "      <td>1.0</td>\n",
       "      <td>67.97</td>\n",
       "      <td>86328.0</td>\n",
       "      <td>3603.0</td>\n",
       "      <td>21892.0</td>\n",
       "      <td>31.77</td>\n",
       "      <td>98.88</td>\n",
       "      <td>62.02</td>\n",
       "      <td>938.0</td>\n",
       "      <td>0.0</td>\n",
       "      <td>0.0</td>\n",
       "      <td>0.0</td>\n",
       "      <td>1.0</td>\n",
       "    </tr>\n",
       "    <tr>\n",
       "      <th>The University of Alabama</th>\n",
       "      <td>1.0</td>\n",
       "      <td>77.07</td>\n",
       "      <td>124188.0</td>\n",
       "      <td>30610.0</td>\n",
       "      <td>30016.0</td>\n",
       "      <td>72.14</td>\n",
       "      <td>80.39</td>\n",
       "      <td>87.23</td>\n",
       "      <td>1262.0</td>\n",
       "      <td>0.0</td>\n",
       "      <td>0.0</td>\n",
       "      <td>0.0</td>\n",
       "      <td>1.0</td>\n",
       "    </tr>\n",
       "  </tbody>\n",
       "</table>\n",
       "</div>"
      ],
      "text/plain": [
       "                                     const  Full-time Faculty Rate (%)  \\\n",
       "School Name                                                              \n",
       "Alabama A & M University               1.0                       99.60   \n",
       "University of Alabama at Birmingham    1.0                       76.19   \n",
       "University of Alabama in Huntsville    1.0                       67.02   \n",
       "Alabama State University               1.0                       67.97   \n",
       "The University of Alabama              1.0                       77.07   \n",
       "\n",
       "                                     Faculty Average Salary  \\\n",
       "School Name                                                   \n",
       "Alabama A & M University                            91188.0   \n",
       "University of Alabama at Birmingham                136560.0   \n",
       "University of Alabama in Huntsville                116364.0   \n",
       "Alabama State University                            86328.0   \n",
       "The University of Alabama                          124188.0   \n",
       "\n",
       "                                     Student Enrollment Size  Attendance Cost  \\\n",
       "School Name                                                                     \n",
       "Alabama A & M University                              5090.0          23445.0   \n",
       "University of Alabama at Birmingham                  13549.0          25542.0   \n",
       "University of Alabama in Huntsville                   7825.0          24861.0   \n",
       "Alabama State University                              3603.0          21892.0   \n",
       "The University of Alabama                            30610.0          30016.0   \n",
       "\n",
       "                                     Completion Rate  Admission Rate (%)  \\\n",
       "School Name                                                                \n",
       "Alabama A & M University                       28.66               89.65   \n",
       "University of Alabama at Birmingham            61.17               80.60   \n",
       "University of Alabama in Huntsville            57.14               77.11   \n",
       "Alabama State University                       31.77               98.88   \n",
       "The University of Alabama                      72.14               80.39   \n",
       "\n",
       "                                     Retention Rate  SAT Average  \\\n",
       "School Name                                                        \n",
       "Alabama A & M University                      54.03        959.0   \n",
       "University of Alabama at Birmingham           86.40       1245.0   \n",
       "University of Alabama in Huntsville           81.80       1300.0   \n",
       "Alabama State University                      62.02        938.0   \n",
       "The University of Alabama                     87.23       1262.0   \n",
       "\n",
       "                                     Ivy League Plus  x0_Private ForProfit  \\\n",
       "School Name                                                                  \n",
       "Alabama A & M University                         0.0                   0.0   \n",
       "University of Alabama at Birmingham              0.0                   0.0   \n",
       "University of Alabama in Huntsville              0.0                   0.0   \n",
       "Alabama State University                         0.0                   0.0   \n",
       "The University of Alabama                        0.0                   0.0   \n",
       "\n",
       "                                     x0_Private NonProfit  x0_Public  \n",
       "School Name                                                           \n",
       "Alabama A & M University                              0.0        1.0  \n",
       "University of Alabama at Birmingham                   0.0        1.0  \n",
       "University of Alabama in Huntsville                   0.0        1.0  \n",
       "Alabama State University                              0.0        1.0  \n",
       "The University of Alabama                             0.0        1.0  "
      ]
     },
     "metadata": {},
     "output_type": "display_data"
    },
    {
     "data": {
      "text/html": [
       "<div>\n",
       "<style scoped>\n",
       "    .dataframe tbody tr th:only-of-type {\n",
       "        vertical-align: middle;\n",
       "    }\n",
       "\n",
       "    .dataframe tbody tr th {\n",
       "        vertical-align: top;\n",
       "    }\n",
       "\n",
       "    .dataframe thead th {\n",
       "        text-align: right;\n",
       "    }\n",
       "</style>\n",
       "<table border=\"1\" class=\"dataframe\">\n",
       "  <thead>\n",
       "    <tr style=\"text-align: right;\">\n",
       "      <th></th>\n",
       "      <th>const</th>\n",
       "      <th>Full-time Faculty Rate (%)</th>\n",
       "      <th>Faculty Average Salary</th>\n",
       "      <th>Student Enrollment Size</th>\n",
       "      <th>Attendance Cost</th>\n",
       "      <th>Completion Rate</th>\n",
       "      <th>Admission Rate (%)</th>\n",
       "      <th>Retention Rate</th>\n",
       "      <th>SAT Average</th>\n",
       "      <th>Ivy League Plus</th>\n",
       "      <th>x0_Private ForProfit</th>\n",
       "      <th>x0_Private NonProfit</th>\n",
       "      <th>x0_Public</th>\n",
       "    </tr>\n",
       "    <tr>\n",
       "      <th>School Name</th>\n",
       "      <th></th>\n",
       "      <th></th>\n",
       "      <th></th>\n",
       "      <th></th>\n",
       "      <th></th>\n",
       "      <th></th>\n",
       "      <th></th>\n",
       "      <th></th>\n",
       "      <th></th>\n",
       "      <th></th>\n",
       "      <th></th>\n",
       "      <th></th>\n",
       "      <th></th>\n",
       "    </tr>\n",
       "  </thead>\n",
       "  <tbody>\n",
       "    <tr>\n",
       "      <th>Saginaw Valley State University</th>\n",
       "      <td>1.0</td>\n",
       "      <td>50.28</td>\n",
       "      <td>101148.0</td>\n",
       "      <td>6953.0</td>\n",
       "      <td>22353.0</td>\n",
       "      <td>47.88</td>\n",
       "      <td>89.460000</td>\n",
       "      <td>77.37</td>\n",
       "      <td>1086.000000</td>\n",
       "      <td>0.0</td>\n",
       "      <td>0.0</td>\n",
       "      <td>0.0</td>\n",
       "      <td>1.0</td>\n",
       "    </tr>\n",
       "    <tr>\n",
       "      <th>Centre College</th>\n",
       "      <td>1.0</td>\n",
       "      <td>93.20</td>\n",
       "      <td>99564.0</td>\n",
       "      <td>1333.0</td>\n",
       "      <td>56645.0</td>\n",
       "      <td>83.16</td>\n",
       "      <td>72.080000</td>\n",
       "      <td>89.30</td>\n",
       "      <td>1325.000000</td>\n",
       "      <td>0.0</td>\n",
       "      <td>0.0</td>\n",
       "      <td>1.0</td>\n",
       "      <td>0.0</td>\n",
       "    </tr>\n",
       "    <tr>\n",
       "      <th>SUNY Empire State College</th>\n",
       "      <td>1.0</td>\n",
       "      <td>22.53</td>\n",
       "      <td>89832.0</td>\n",
       "      <td>8221.0</td>\n",
       "      <td>19726.0</td>\n",
       "      <td>27.03</td>\n",
       "      <td>80.041536</td>\n",
       "      <td>64.91</td>\n",
       "      <td>1116.619148</td>\n",
       "      <td>0.0</td>\n",
       "      <td>0.0</td>\n",
       "      <td>0.0</td>\n",
       "      <td>1.0</td>\n",
       "    </tr>\n",
       "    <tr>\n",
       "      <th>Boise Bible College</th>\n",
       "      <td>1.0</td>\n",
       "      <td>90.00</td>\n",
       "      <td>54900.0</td>\n",
       "      <td>94.0</td>\n",
       "      <td>24258.0</td>\n",
       "      <td>38.64</td>\n",
       "      <td>90.380000</td>\n",
       "      <td>66.67</td>\n",
       "      <td>988.000000</td>\n",
       "      <td>0.0</td>\n",
       "      <td>0.0</td>\n",
       "      <td>1.0</td>\n",
       "      <td>0.0</td>\n",
       "    </tr>\n",
       "    <tr>\n",
       "      <th>West Coast University-Dallas</th>\n",
       "      <td>1.0</td>\n",
       "      <td>25.56</td>\n",
       "      <td>88980.0</td>\n",
       "      <td>1182.0</td>\n",
       "      <td>27991.0</td>\n",
       "      <td>100.00</td>\n",
       "      <td>73.095845</td>\n",
       "      <td>0.00</td>\n",
       "      <td>1097.854469</td>\n",
       "      <td>0.0</td>\n",
       "      <td>1.0</td>\n",
       "      <td>0.0</td>\n",
       "      <td>0.0</td>\n",
       "    </tr>\n",
       "  </tbody>\n",
       "</table>\n",
       "</div>"
      ],
      "text/plain": [
       "                                 const  Full-time Faculty Rate (%)  \\\n",
       "School Name                                                          \n",
       "Saginaw Valley State University    1.0                       50.28   \n",
       "Centre College                     1.0                       93.20   \n",
       "SUNY Empire State College          1.0                       22.53   \n",
       "Boise Bible College                1.0                       90.00   \n",
       "West Coast University-Dallas       1.0                       25.56   \n",
       "\n",
       "                                 Faculty Average Salary  \\\n",
       "School Name                                               \n",
       "Saginaw Valley State University                101148.0   \n",
       "Centre College                                  99564.0   \n",
       "SUNY Empire State College                       89832.0   \n",
       "Boise Bible College                             54900.0   \n",
       "West Coast University-Dallas                    88980.0   \n",
       "\n",
       "                                 Student Enrollment Size  Attendance Cost  \\\n",
       "School Name                                                                 \n",
       "Saginaw Valley State University                   6953.0          22353.0   \n",
       "Centre College                                    1333.0          56645.0   \n",
       "SUNY Empire State College                         8221.0          19726.0   \n",
       "Boise Bible College                                 94.0          24258.0   \n",
       "West Coast University-Dallas                      1182.0          27991.0   \n",
       "\n",
       "                                 Completion Rate  Admission Rate (%)  \\\n",
       "School Name                                                            \n",
       "Saginaw Valley State University            47.88           89.460000   \n",
       "Centre College                             83.16           72.080000   \n",
       "SUNY Empire State College                  27.03           80.041536   \n",
       "Boise Bible College                        38.64           90.380000   \n",
       "West Coast University-Dallas              100.00           73.095845   \n",
       "\n",
       "                                 Retention Rate  SAT Average  Ivy League Plus  \\\n",
       "School Name                                                                     \n",
       "Saginaw Valley State University           77.37  1086.000000              0.0   \n",
       "Centre College                            89.30  1325.000000              0.0   \n",
       "SUNY Empire State College                 64.91  1116.619148              0.0   \n",
       "Boise Bible College                       66.67   988.000000              0.0   \n",
       "West Coast University-Dallas               0.00  1097.854469              0.0   \n",
       "\n",
       "                                 x0_Private ForProfit  x0_Private NonProfit  \\\n",
       "School Name                                                                   \n",
       "Saginaw Valley State University                   0.0                   0.0   \n",
       "Centre College                                    0.0                   1.0   \n",
       "SUNY Empire State College                         0.0                   0.0   \n",
       "Boise Bible College                               0.0                   1.0   \n",
       "West Coast University-Dallas                      1.0                   0.0   \n",
       "\n",
       "                                 x0_Public  \n",
       "School Name                                 \n",
       "Saginaw Valley State University        1.0  \n",
       "Centre College                         0.0  \n",
       "SUNY Empire State College              1.0  \n",
       "Boise Bible College                    0.0  \n",
       "West Coast University-Dallas           0.0  "
      ]
     },
     "metadata": {},
     "output_type": "display_data"
    },
    {
     "data": {
      "text/plain": [
       "School Name\n",
       "Saginaw Valley State University    35400.0\n",
       "Centre College                     38500.0\n",
       "SUNY Empire State College          42200.0\n",
       "Boise Bible College                26900.0\n",
       "West Coast University-Dallas       71900.0\n",
       "Name: Mean Earnings (6 Yrs after Entry), dtype: float64"
      ]
     },
     "metadata": {},
     "output_type": "display_data"
    }
   ],
   "source": [
    "display(X_plus.head())\n",
    "display(Xtrainplus.head())\n",
    "display(ytrain.head())"
   ]
  },
  {
   "cell_type": "code",
   "execution_count": 6,
   "metadata": {},
   "outputs": [
    {
     "name": "stdout",
     "output_type": "stream",
     "text": [
      "                                    OLS Regression Results                                   \n",
      "=============================================================================================\n",
      "Dep. Variable:     Mean Earnings (6 Yrs after Entry)   R-squared:                       0.437\n",
      "Model:                                           OLS   Adj. R-squared:                  0.432\n",
      "Method:                                Least Squares   F-statistic:                     84.82\n",
      "Date:                               Mon, 18 Dec 2023   Prob (F-statistic):          1.60e-141\n",
      "Time:                                       21:55:37   Log-Likelihood:                -12736.\n",
      "No. Observations:                               1215   AIC:                         2.550e+04\n",
      "Df Residuals:                                   1203   BIC:                         2.556e+04\n",
      "Df Model:                                         11                                         \n",
      "Covariance Type:                           nonrobust                                         \n",
      "==============================================================================================\n",
      "                                 coef    std err          t      P>|t|      [0.025      0.975]\n",
      "----------------------------------------------------------------------------------------------\n",
      "const                      -2851.9841   2963.879     -0.962      0.336   -8666.931    2962.963\n",
      "Full-time Faculty Rate (%)   -20.6364     10.312     -2.001      0.046     -40.868      -0.405\n",
      "Faculty Average Salary         0.1508      0.014     11.119      0.000       0.124       0.177\n",
      "Student Enrollment Size       -0.0927      0.040     -2.302      0.022      -0.172      -0.014\n",
      "Attendance Cost                0.0328      0.030      1.110      0.267      -0.025       0.091\n",
      "Completion Rate               14.6525     21.602      0.678      0.498     -27.729      57.034\n",
      "Admission Rate (%)            28.0788     15.448      1.818      0.069      -2.230      58.387\n",
      "Retention Rate               -25.1857     25.207     -0.999      0.318     -74.641      24.270\n",
      "SAT Average                   25.3928      3.901      6.509      0.000      17.739      33.047\n",
      "Ivy League Plus             1.585e+04   3217.247      4.927      0.000    9538.647    2.22e+04\n",
      "x0_Private ForProfit         901.9482   1219.972      0.739      0.460   -1491.560    3295.457\n",
      "x0_Private NonProfit       -1519.8931   1087.473     -1.398      0.162   -3653.447     613.661\n",
      "x0_Public                  -2234.0392   1231.339     -1.814      0.070   -4649.850     181.772\n",
      "==============================================================================\n",
      "Omnibus:                      427.925   Durbin-Watson:                   1.971\n",
      "Prob(Omnibus):                  0.000   Jarque-Bera (JB):             2280.541\n",
      "Skew:                           1.544   Prob(JB):                         0.00\n",
      "Kurtosis:                       8.959   Cond. No.                     1.31e+21\n",
      "==============================================================================\n",
      "\n",
      "Notes:\n",
      "[1] Standard Errors assume that the covariance matrix of the errors is correctly specified.\n",
      "[2] The smallest eigenvalue is 8.52e-30. This might indicate that there are\n",
      "strong multicollinearity problems or that the design matrix is singular.\n"
     ]
    }
   ],
   "source": [
    "# Fit and summarize OLS model\n",
    "# endog = y, exog = x\n",
    "mod = sm.OLS(ytrain, Xtrainplus)\n",
    "ols_res = mod.fit()\n",
    "print(ols_res.summary())\n",
    "#                             OLS Regression Results                            \n",
    "# ==============================================================================\n",
    "# Dep. Variable:                  GRADE   R-squared:                       0.416\n",
    "# Model:                            OLS   Adj. R-squared:                  0.353\n",
    "# Method:                 Least Squares   F-statistic:                     6.646\n",
    "# Date:                Fri, 05 May 2023   Prob (F-statistic):            0.00157\n",
    "# Time:                        13:59:54   Log-Likelihood:                -12.978\n",
    "# No. Observations:                  32   AIC:                             33.96\n",
    "# Df Residuals:                      28   BIC:                             39.82\n",
    "# Df Model:                           3                                         \n",
    "# Covariance Type:            nonrobust                                         \n",
    "# ==============================================================================\n",
    "#                  coef    std err          t      P>|t|      [0.025      0.975]\n",
    "# ------------------------------------------------------------------------------\n",
    "# GPA            0.4639      0.162      2.864      0.008       0.132       0.796\n",
    "# TUCE           0.0105      0.019      0.539      0.594      -0.029       0.050\n",
    "# PSI            0.3786      0.139      2.720      0.011       0.093       0.664\n",
    "# const         -1.4980      0.524     -2.859      0.008      -2.571      -0.425\n",
    "# ==============================================================================\n",
    "# Omnibus:                        0.176   Durbin-Watson:                   2.346\n",
    "# Prob(Omnibus):                  0.916   Jarque-Bera (JB):                0.167\n",
    "# Skew:                           0.141   Prob(JB):                        0.920\n",
    "# Kurtosis:                       2.786   Cond. No.                         176.\n",
    "# ==============================================================================\n",
    "\n",
    "# Notes:\n",
    "# [1] Standard Errors assume that the covariance matrix of the errors is correctly specified.\n"
   ]
  },
  {
   "cell_type": "markdown",
   "metadata": {},
   "source": [
    "There definitely appears to be collinearity here, as terms like full-time faculty rate and retention rates have negative coefficients, not aligned with relationships shwon by exploratory analysis.\n",
    "I explore this collinearity and these relationships with the correlation matrix below."
   ]
  },
  {
   "cell_type": "code",
   "execution_count": 7,
   "metadata": {},
   "outputs": [
    {
     "ename": "NameError",
     "evalue": "name 'target' is not defined",
     "output_type": "error",
     "traceback": [
      "\u001b[1;31m---------------------------------------------------------------------------\u001b[0m",
      "\u001b[1;31mNameError\u001b[0m                                 Traceback (most recent call last)",
      "Cell \u001b[1;32mIn[7], line 2\u001b[0m\n\u001b[0;32m      1\u001b[0m \u001b[38;5;66;03m# see range of values for numeric variables\u001b[39;00m\n\u001b[1;32m----> 2\u001b[0m X_filled\u001b[38;5;241m.\u001b[39massign(y6 \u001b[38;5;241m=\u001b[39m \u001b[43mtarget\u001b[49m,y10\u001b[38;5;241m=\u001b[39mtarget2)\u001b[38;5;241m.\u001b[39mdescribe()\n",
      "\u001b[1;31mNameError\u001b[0m: name 'target' is not defined"
     ]
    }
   ],
   "source": [
    "# see range of values for numeric variables\n",
    "X_filled.assign(y6 = target,y10=target2).describe()"
   ]
  },
  {
   "cell_type": "code",
   "execution_count": 8,
   "metadata": {},
   "outputs": [
    {
     "ename": "NameError",
     "evalue": "name 'target' is not defined",
     "output_type": "error",
     "traceback": [
      "\u001b[1;31m---------------------------------------------------------------------------\u001b[0m",
      "\u001b[1;31mNameError\u001b[0m                                 Traceback (most recent call last)",
      "Cell \u001b[1;32mIn[8], line 2\u001b[0m\n\u001b[0;32m      1\u001b[0m sns\u001b[38;5;241m.\u001b[39mset(rc\u001b[38;5;241m=\u001b[39m{\u001b[38;5;124m'\u001b[39m\u001b[38;5;124mfigure.figsize\u001b[39m\u001b[38;5;124m'\u001b[39m:(\u001b[38;5;241m10\u001b[39m,\u001b[38;5;241m5\u001b[39m)},font_scale \u001b[38;5;241m=\u001b[39m \u001b[38;5;241m1\u001b[39m)\n\u001b[1;32m----> 2\u001b[0m corr_map \u001b[38;5;241m=\u001b[39m sns\u001b[38;5;241m.\u001b[39mheatmap(X_filled\u001b[38;5;241m.\u001b[39massign(y6 \u001b[38;5;241m=\u001b[39m \u001b[43mtarget\u001b[49m,y10\u001b[38;5;241m=\u001b[39mtarget2)\u001b[38;5;241m.\u001b[39mcorr(),annot\u001b[38;5;241m=\u001b[39m\u001b[38;5;28;01mTrue\u001b[39;00m)\n\u001b[0;32m      3\u001b[0m corr_map\u001b[38;5;241m.\u001b[39mset_title(\u001b[38;5;124m\"\u001b[39m\u001b[38;5;124mCorrelation matrix between main features and two response variables\u001b[39m\u001b[38;5;124m\"\u001b[39m)\n",
      "\u001b[1;31mNameError\u001b[0m: name 'target' is not defined"
     ]
    }
   ],
   "source": [
    "sns.set(rc={'figure.figsize':(10,5)},font_scale = 1)\n",
    "corr_map = sns.heatmap(X_filled.assign(y6 = target,y10=target2).corr(),annot=True)\n",
    "corr_map.set_title(\"Correlation matrix between main features and two response variables\")"
   ]
  },
  {
   "cell_type": "markdown",
   "metadata": {},
   "source": [
    "After examining the correlation matrix above, it appears that there is multicollinearity inherent in the features, and this is likely affecting the sign and the significance of retention rate. Full-time faculty rate may also be affected by multicollinearity, but these seems less likely after examining the correlation matrix, and after seeing the correlation coefficient of this variable with the response it appears that the effect of full-time faculty rate may in fact be negligible towards salary post college entry."
   ]
  },
  {
   "cell_type": "code",
   "execution_count": 9,
   "metadata": {},
   "outputs": [
    {
     "name": "stdout",
     "output_type": "stream",
     "text": [
      "Test R^2: 0.43680365073100913\n",
      "Train RMSE: 8632.322577101606\n",
      "Train Scaled RMSE (num sds): 0.7504640892600996\n",
      "Test R^2: 0.4522258680990987\n",
      "Test RMSE: 8214.078101600946\n",
      "Test Scaled RMSE: 0.7401176473378411\n"
     ]
    }
   ],
   "source": [
    "# evaluate performance\n",
    "print(\"Test R^2:\", skm.r2_score(ytrain,ols_res.predict(Xtrainplus)))\n",
    "print(f'Train RMSE: {np.sqrt(skm.mean_squared_error(ytrain,ols_res.predict(Xtrainplus)))}')\n",
    "print(f'Train Scaled RMSE (num sds): {np.sqrt(skm.mean_squared_error(ytrain,ols_res.predict(Xtrainplus)))/np.std(ytrain)}')\n",
    "\n",
    "print(\"Test R^2:\", skm.r2_score(ytest0,ols_res.predict(Xtestplus)))\n",
    "print(\"Test RMSE:\", np.sqrt(skm.mean_squared_error(ytest0,ols_res.predict(Xtestplus))))\n",
    "print(\"Test Scaled RMSE:\", np.sqrt(skm.mean_squared_error(ytest0,ols_res.predict(Xtestplus)))/np.std(ytest0))"
   ]
  },
  {
   "cell_type": "markdown",
   "metadata": {},
   "source": [
    "### Lasso Regression\n",
    "Here I fit a lasso regression model, another supervized learning technique that requires minimal hyperparameter tuning.\n",
    "This model can hopefully account for multicollinearity and possible overfitting using regularization.\n"
   ]
  },
  {
   "cell_type": "code",
   "execution_count": 17,
   "metadata": {},
   "outputs": [
    {
     "data": {
      "text/html": [
       "<style>#sk-container-id-1 {color: black;}#sk-container-id-1 pre{padding: 0;}#sk-container-id-1 div.sk-toggleable {background-color: white;}#sk-container-id-1 label.sk-toggleable__label {cursor: pointer;display: block;width: 100%;margin-bottom: 0;padding: 0.3em;box-sizing: border-box;text-align: center;}#sk-container-id-1 label.sk-toggleable__label-arrow:before {content: \"▸\";float: left;margin-right: 0.25em;color: #696969;}#sk-container-id-1 label.sk-toggleable__label-arrow:hover:before {color: black;}#sk-container-id-1 div.sk-estimator:hover label.sk-toggleable__label-arrow:before {color: black;}#sk-container-id-1 div.sk-toggleable__content {max-height: 0;max-width: 0;overflow: hidden;text-align: left;background-color: #f0f8ff;}#sk-container-id-1 div.sk-toggleable__content pre {margin: 0.2em;color: black;border-radius: 0.25em;background-color: #f0f8ff;}#sk-container-id-1 input.sk-toggleable__control:checked~div.sk-toggleable__content {max-height: 200px;max-width: 100%;overflow: auto;}#sk-container-id-1 input.sk-toggleable__control:checked~label.sk-toggleable__label-arrow:before {content: \"▾\";}#sk-container-id-1 div.sk-estimator input.sk-toggleable__control:checked~label.sk-toggleable__label {background-color: #d4ebff;}#sk-container-id-1 div.sk-label input.sk-toggleable__control:checked~label.sk-toggleable__label {background-color: #d4ebff;}#sk-container-id-1 input.sk-hidden--visually {border: 0;clip: rect(1px 1px 1px 1px);clip: rect(1px, 1px, 1px, 1px);height: 1px;margin: -1px;overflow: hidden;padding: 0;position: absolute;width: 1px;}#sk-container-id-1 div.sk-estimator {font-family: monospace;background-color: #f0f8ff;border: 1px dotted black;border-radius: 0.25em;box-sizing: border-box;margin-bottom: 0.5em;}#sk-container-id-1 div.sk-estimator:hover {background-color: #d4ebff;}#sk-container-id-1 div.sk-parallel-item::after {content: \"\";width: 100%;border-bottom: 1px solid gray;flex-grow: 1;}#sk-container-id-1 div.sk-label:hover label.sk-toggleable__label {background-color: #d4ebff;}#sk-container-id-1 div.sk-serial::before {content: \"\";position: absolute;border-left: 1px solid gray;box-sizing: border-box;top: 0;bottom: 0;left: 50%;z-index: 0;}#sk-container-id-1 div.sk-serial {display: flex;flex-direction: column;align-items: center;background-color: white;padding-right: 0.2em;padding-left: 0.2em;position: relative;}#sk-container-id-1 div.sk-item {position: relative;z-index: 1;}#sk-container-id-1 div.sk-parallel {display: flex;align-items: stretch;justify-content: center;background-color: white;position: relative;}#sk-container-id-1 div.sk-item::before, #sk-container-id-1 div.sk-parallel-item::before {content: \"\";position: absolute;border-left: 1px solid gray;box-sizing: border-box;top: 0;bottom: 0;left: 50%;z-index: -1;}#sk-container-id-1 div.sk-parallel-item {display: flex;flex-direction: column;z-index: 1;position: relative;background-color: white;}#sk-container-id-1 div.sk-parallel-item:first-child::after {align-self: flex-end;width: 50%;}#sk-container-id-1 div.sk-parallel-item:last-child::after {align-self: flex-start;width: 50%;}#sk-container-id-1 div.sk-parallel-item:only-child::after {width: 0;}#sk-container-id-1 div.sk-dashed-wrapped {border: 1px dashed gray;margin: 0 0.4em 0.5em 0.4em;box-sizing: border-box;padding-bottom: 0.4em;background-color: white;}#sk-container-id-1 div.sk-label label {font-family: monospace;font-weight: bold;display: inline-block;line-height: 1.2em;}#sk-container-id-1 div.sk-label-container {text-align: center;}#sk-container-id-1 div.sk-container {/* jupyter's `normalize.less` sets `[hidden] { display: none; }` but bootstrap.min.css set `[hidden] { display: none !important; }` so we also need the `!important` here to be able to override the default hidden behavior on the sphinx rendered scikit-learn.org. See: https://github.com/scikit-learn/scikit-learn/issues/21755 */display: inline-block !important;position: relative;}#sk-container-id-1 div.sk-text-repr-fallback {display: none;}</style><div id=\"sk-container-id-1\" class=\"sk-top-container\"><div class=\"sk-text-repr-fallback\"><pre>LassoCV(cv=10)</pre><b>In a Jupyter environment, please rerun this cell to show the HTML representation or trust the notebook. <br />On GitHub, the HTML representation is unable to render, please try loading this page with nbviewer.org.</b></div><div class=\"sk-container\" hidden><div class=\"sk-item\"><div class=\"sk-estimator sk-toggleable\"><input class=\"sk-toggleable__control sk-hidden--visually\" id=\"sk-estimator-id-1\" type=\"checkbox\" checked><label for=\"sk-estimator-id-1\" class=\"sk-toggleable__label sk-toggleable__label-arrow\">LassoCV</label><div class=\"sk-toggleable__content\"><pre>LassoCV(cv=10)</pre></div></div></div></div></div>"
      ],
      "text/plain": [
       "LassoCV(cv=10)"
      ]
     },
     "execution_count": 17,
     "metadata": {},
     "output_type": "execute_result"
    }
   ],
   "source": [
    "lcv = LassoCV(cv=10)\n",
    "lcv.fit(Xtrain_filled,ytrain)"
   ]
  },
  {
   "cell_type": "code",
   "execution_count": 18,
   "metadata": {},
   "outputs": [
    {
     "data": {
      "text/plain": [
       "15418.754412458533"
      ]
     },
     "execution_count": 18,
     "metadata": {},
     "output_type": "execute_result"
    }
   ],
   "source": [
    "lcv.intercept_"
   ]
  },
  {
   "cell_type": "code",
   "execution_count": 19,
   "metadata": {},
   "outputs": [
    {
     "name": "stdout",
     "output_type": "stream",
     "text": [
      "Index(['Full-time Faculty Rate (%)', 'Faculty Average Salary',\n",
      "       'Student Enrollment Size', 'Attendance Cost', 'Completion Rate',\n",
      "       'Admission Rate (%)', 'Retention Rate', 'SAT Average',\n",
      "       'Ivy League Plus', 'x0_Private ForProfit', 'x0_Private NonProfit',\n",
      "       'x0_Public'],\n",
      "      dtype='object')\n"
     ]
    },
    {
     "data": {
      "text/plain": [
       "array([-0.        ,  0.2032263 , -0.06771863,  0.11784527,  0.        ,\n",
       "       -0.        , -0.        ,  0.        ,  0.        ,  0.        ,\n",
       "       -0.        , -0.        ])"
      ]
     },
     "execution_count": 19,
     "metadata": {},
     "output_type": "execute_result"
    }
   ],
   "source": [
    "print(Xtrain_filled.columns)\n",
    "lcv.coef_"
   ]
  },
  {
   "cell_type": "code",
   "execution_count": 20,
   "metadata": {},
   "outputs": [
    {
     "data": {
      "text/plain": [
       "217782.12334472904"
      ]
     },
     "execution_count": 20,
     "metadata": {},
     "output_type": "execute_result"
    }
   ],
   "source": [
    "lcv.alpha_"
   ]
  },
  {
   "cell_type": "code",
   "execution_count": 21,
   "metadata": {},
   "outputs": [
    {
     "data": {
      "text/plain": [
       "array([36472.72893207, 41141.88934127, 44252.08390608, 37887.17292213])"
      ]
     },
     "execution_count": 21,
     "metadata": {},
     "output_type": "execute_result"
    }
   ],
   "source": [
    "# test out predictions: are they on the right scale?\n",
    "lcv.predict(X=Xtest_filled)[0:4]"
   ]
  },
  {
   "cell_type": "code",
   "execution_count": 22,
   "metadata": {},
   "outputs": [
    {
     "name": "stdout",
     "output_type": "stream",
     "text": [
      "Train R^2: 0.39498007221660325\n",
      "Train RMSE: 8947.106051591509\n",
      "Train Scaled RMSE (num sds): 0.7778302692640577\n",
      "Test R^2: 0.42736728173586325\n",
      "RMSE: 8398.39211217511\n",
      "Scaled RMSE (num sds): 0.7567249951363683\n"
     ]
    }
   ],
   "source": [
    "print(\"Train R^2:\", lcv.score(Xtrain_filled,ytrain))\n",
    "print(f'Train RMSE: {np.sqrt(skm.mean_squared_error(ytrain,lcv.predict(Xtrain_filled)))}')\n",
    "print(f'Train Scaled RMSE (num sds): {np.sqrt(skm.mean_squared_error(ytrain,lcv.predict(Xtrain_filled)))/np.std(ytrain)}')\n",
    "\n",
    "print(\"Test R^2:\", lcv.score(Xtest_filled,ytest0))\n",
    "print(f'RMSE: {np.sqrt(skm.mean_squared_error(ytest0,lcv.predict(Xtest_filled)))}')\n",
    "print(f'Scaled RMSE (num sds): {np.sqrt(skm.mean_squared_error(ytest0,lcv.predict(Xtest_filled)))/np.std(ytest0)}')\n",
    "# results are not horrible\n",
    "# only slightly worse than linear regression (from a fit and prediction sense)"
   ]
  },
  {
   "cell_type": "markdown",
   "metadata": {},
   "source": [
    "Interesting to see how lasso, which regularized the feature set to only include 3 features, still had almost identical fit and performance to linear regression.\n",
    "(It will be interesting to see how nonparametric methods perform in comparison: especially those that have implicity regularization like a random forest)"
   ]
  }
 ],
 "metadata": {
  "kernelspec": {
   "display_name": "base",
   "language": "python",
   "name": "python3"
  },
  "language_info": {
   "codemirror_mode": {
    "name": "ipython",
    "version": 3
   },
   "file_extension": ".py",
   "mimetype": "text/x-python",
   "name": "python",
   "nbconvert_exporter": "python",
   "pygments_lexer": "ipython3",
   "version": "3.9.12"
  }
 },
 "nbformat": 4,
 "nbformat_minor": 2
}
